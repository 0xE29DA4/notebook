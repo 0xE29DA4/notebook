{
 "cells": [
  {
   "cell_type": "markdown",
   "id": "5c3d6169",
   "metadata": {},
   "source": [
    "#### 结构体成员内存对齐\n",
    "\n",
    "```C\n",
    "// 同一类型的数据，直接合并最后再内存对齐\n",
    "struct Test1 {\n",
    "    int a: 11; // 变量 a 的位段，表示这个变量占用 11 位\n",
    "    int b: 9;\n",
    "    int c: 7;\n",
    "    int d: 5;\n",
    "    // 以上刚好 32 位，再加一位也多占 1B（内存对齐）\n",
    "    int e: 1;\n",
    "};\n",
    "\n",
    "// 不同数据类型，按照最宽的对其，Test 占 (2->4) + 4 = 8B\n",
    "class Test2 {\n",
    "    short a;\n",
    "    int b;\n",
    "};\n",
    "\n",
    "// 占 1B，可以用来模拟一些二进制算法，方便位操作\n",
    "struct Byte {\n",
    "    unsigned char a0: 1;\n",
    "    unsigned char a1: 1;\n",
    "    unsigned char a2: 1;\n",
    "    unsigned char a3: 1;\n",
    "    unsigned char a4: 1;\n",
    "    unsigned char a5: 1;\n",
    "    unsigned char a6: 1;\n",
    "    unsigned char a7: 1;\n",
    "};\n",
    "```\n",
    "\n",
    "#### clock\n",
    "\n",
    "```C\n",
    "#include <stdlib.h>\n",
    "#include <time.h>\n",
    "int main() {\n",
    "    // 获取从程序开始运行所耗费的时间，单位：时钟打点\n",
    "    // CLK_TCK: 机器时钟每秒打点数\n",
    "    clock_t start = clock();\n",
    "    function_to_test();\n",
    "    clock_t end = clock();\n",
    "    double duration = double(stop - start) / CLK_TCK;\n",
    "}\n",
    "```\n",
    "\n"
   ]
  }
 ],
 "metadata": {
  "language_info": {
   "name": "python"
  }
 },
 "nbformat": 4,
 "nbformat_minor": 5
}
