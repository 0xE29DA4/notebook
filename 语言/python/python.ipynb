{
 "cells": [
  {
   "cell_type": "markdown",
   "id": "207384ad",
   "metadata": {},
   "source": [
    "# python 基础"
   ]
  },
  {
   "cell_type": "markdown",
   "id": "d352d7d7",
   "metadata": {},
   "source": [
    "## 接口"
   ]
  },
  {
   "cell_type": "code",
   "execution_count": null,
   "id": "d1ac4870",
   "metadata": {},
   "outputs": [],
   "source": [
    "# 方法一\n",
    "class X:\n",
    "    def func(self):\n",
    "        raise NotImplementedError  # 强制此方法需要实现\n",
    "\n",
    "# 方法二\n",
    "from abc import ABCMeta, abstractmethod\n",
    "class X(metaclass=ABCMeta):\n",
    "    @abstarctmethod\n",
    "    def func(self):\n",
    "        ..."
   ]
  }
 ],
 "metadata": {
  "kernelspec": {
   "display_name": "base",
   "language": "python",
   "name": "python3"
  },
  "language_info": {
   "name": "python",
   "version": "3.11.5"
  }
 },
 "nbformat": 4,
 "nbformat_minor": 5
}
